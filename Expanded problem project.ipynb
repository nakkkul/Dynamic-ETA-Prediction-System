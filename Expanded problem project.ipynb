{
 "cells": [
  {
   "cell_type": "code",
   "execution_count": 20,
   "id": "e93a2cde-f305-42f9-afd8-a2670f8c312e",
   "metadata": {},
   "outputs": [],
   "source": [
    "import osmnx as ox\n",
    "import geopandas as gpd\n",
    "import numpy as np\n",
    "import pandas as pd\n",
    "import numpy as np"
   ]
  },
  {
   "cell_type": "markdown",
   "id": "069042ca-875a-427a-a117-d9bd0928949f",
   "metadata": {},
   "source": [
    "##### Koramangala, Indira Nagar and surrounding areas do not have any road network data available so I have used Newyork city data"
   ]
  },
  {
   "cell_type": "code",
   "execution_count": 4,
   "id": "eb058cc7-4188-4e4b-8d0f-70b2941d45d1",
   "metadata": {},
   "outputs": [],
   "source": [
    "# Taking NewYork city\n",
    "# (took help from google regarding the code and api as well)\n",
    "place_name = \"New York City, New York, USA\"\n",
    "graph = ox.graph_from_place(place_name, network_type='drive')"
   ]
  },
  {
   "cell_type": "code",
   "execution_count": 15,
   "id": "7806f060-bc76-4115-b6ea-76c99ab59db8",
   "metadata": {},
   "outputs": [],
   "source": [
    "# Fetching road network data from OpenStreetMap \n",
    "graph = ox.graph_from_place(place_name, network_type='drive')\n",
    "edges = ox.graph_to_gdfs(graph, nodes=False, edges=True)"
   ]
  },
  {
   "cell_type": "code",
   "execution_count": 17,
   "id": "0127e5dd-03ff-4ee5-abe4-ef11ff134551",
   "metadata": {},
   "outputs": [
    {
     "data": {
      "text/plain": [
       "Index(['osmid', 'oneway', 'highway', 'reversed', 'length', 'geometry', 'lanes',\n",
       "       'ref', 'name', 'maxspeed', 'bridge', 'access', 'tunnel', 'width',\n",
       "       'junction', 'est_width'],\n",
       "      dtype='object')"
      ]
     },
     "execution_count": 17,
     "metadata": {},
     "output_type": "execute_result"
    }
   ],
   "source": [
    "edges.columns"
   ]
  },
  {
   "cell_type": "markdown",
   "id": "1ecb3740-1fe2-411d-98d6-97edb7e4f7c1",
   "metadata": {},
   "source": [
    "#### Columns that are most relevant to estimate travel time and understanding road characteristics\n",
    "\n",
    "* Length\n",
    "* Max speed\n",
    "* Lanes\n",
    "* Highway"
   ]
  },
  {
   "cell_type": "code",
   "execution_count": 23,
   "id": "908fcbd6-2e89-4fb5-b509-6403a41861a1",
   "metadata": {},
   "outputs": [
    {
     "name": "stderr",
     "output_type": "stream",
     "text": [
      "C:\\Users\\a\\AppData\\Local\\Temp\\ipykernel_8908\\2384129723.py:5: SettingWithCopyWarning: \n",
      "A value is trying to be set on a copy of a slice from a DataFrame.\n",
      "Try using .loc[row_indexer,col_indexer] = value instead\n",
      "\n",
      "See the caveats in the documentation: https://pandas.pydata.org/pandas-docs/stable/user_guide/indexing.html#returning-a-view-versus-a-copy\n",
      "  edges_relevant['current_speed'] = np.random.uniform(20, 60, len(edges_relevant))  # Current speed in km/h\n",
      "C:\\Users\\a\\AppData\\Local\\Temp\\ipykernel_8908\\2384129723.py:6: SettingWithCopyWarning: \n",
      "A value is trying to be set on a copy of a slice from a DataFrame.\n",
      "Try using .loc[row_indexer,col_indexer] = value instead\n",
      "\n",
      "See the caveats in the documentation: https://pandas.pydata.org/pandas-docs/stable/user_guide/indexing.html#returning-a-view-versus-a-copy\n",
      "  edges_relevant['traffic_condition'] = np.random.choice([0.8, 1.0, 1.2], len(edges_relevant))  # Traffic multipliers\n"
     ]
    }
   ],
   "source": [
    "# Selecting relevant columns and adding additional features\n",
    "edges_relevant = edges[['length', 'maxspeed', 'lanes', 'highway']]\n",
    "\n",
    "# additional features\n",
    "edges_relevant['current_speed'] = np.random.uniform(20, 60, len(edges_relevant))  # Current speed in km/h\n",
    "edges_relevant['traffic_condition'] = np.random.choice([0.8, 1.0, 1.2], len(edges_relevant))  # Traffic multipliers"
   ]
  },
  {
   "cell_type": "code",
   "execution_count": 24,
   "id": "a6305505-98f7-4666-9f80-e44baea642c5",
   "metadata": {},
   "outputs": [
    {
     "name": "stderr",
     "output_type": "stream",
     "text": [
      "C:\\Users\\a\\AppData\\Local\\Temp\\ipykernel_8908\\2785971566.py:2: SettingWithCopyWarning: \n",
      "A value is trying to be set on a copy of a slice from a DataFrame.\n",
      "Try using .loc[row_indexer,col_indexer] = value instead\n",
      "\n",
      "See the caveats in the documentation: https://pandas.pydata.org/pandas-docs/stable/user_guide/indexing.html#returning-a-view-versus-a-copy\n",
      "  edges_relevant['ETA_minutes'] = (edges_relevant['length'] / (edges_relevant['current_speed'] * edges_relevant['traffic_condition'])) * 60\n"
     ]
    }
   ],
   "source": [
    "# Calculating the initial ETA for each segment (took help from google)\n",
    "edges_relevant['ETA_minutes'] = (edges_relevant['length'] / (edges_relevant['current_speed'] * edges_relevant['traffic_condition'])) * 60"
   ]
  },
  {
   "cell_type": "code",
   "execution_count": 25,
   "id": "54244ce3-7ccc-4528-bbde-bdc51132d4f2",
   "metadata": {},
   "outputs": [],
   "source": [
    "# Function to update ETA dynamically based on new current speed and traffic conditions\n",
    "def update_eta(edges, current_speeds, traffic_conditions):\n",
    "    edges['current_speed'] = current_speeds\n",
    "    edges['traffic_condition'] = traffic_conditions\n",
    "    edges['ETA_minutes'] = (edges['length'] / (edges['current_speed'] * edges['traffic_condition'])) * 60\n",
    "    return edges"
   ]
  },
  {
   "cell_type": "code",
   "execution_count": 26,
   "id": "e29baa83-942d-4687-bd80-822f2ef6482d",
   "metadata": {},
   "outputs": [],
   "source": [
    "# Simulating a dynamic environment where the ETA is updated as the vehicle moves\n",
    "# Example: Updating current speed and traffic condition for the first 5 segments\n",
    "\n",
    "new_speeds = np.random.uniform(20, 60, 5)\n",
    "new_traffic_conditions = np.random.choice([0.8, 1.0, 1.2], 5)"
   ]
  },
  {
   "cell_type": "code",
   "execution_count": 27,
   "id": "afa79754-2795-4727-85a3-2c143200fc64",
   "metadata": {},
   "outputs": [
    {
     "name": "stderr",
     "output_type": "stream",
     "text": [
      "C:\\Users\\a\\AppData\\Local\\Temp\\ipykernel_8908\\336187900.py:3: SettingWithCopyWarning: \n",
      "A value is trying to be set on a copy of a slice from a DataFrame.\n",
      "Try using .loc[row_indexer,col_indexer] = value instead\n",
      "\n",
      "See the caveats in the documentation: https://pandas.pydata.org/pandas-docs/stable/user_guide/indexing.html#returning-a-view-versus-a-copy\n",
      "  edges['current_speed'] = current_speeds\n",
      "C:\\Users\\a\\AppData\\Local\\Temp\\ipykernel_8908\\336187900.py:4: SettingWithCopyWarning: \n",
      "A value is trying to be set on a copy of a slice from a DataFrame.\n",
      "Try using .loc[row_indexer,col_indexer] = value instead\n",
      "\n",
      "See the caveats in the documentation: https://pandas.pydata.org/pandas-docs/stable/user_guide/indexing.html#returning-a-view-versus-a-copy\n",
      "  edges['traffic_condition'] = traffic_conditions\n",
      "C:\\Users\\a\\AppData\\Local\\Temp\\ipykernel_8908\\336187900.py:5: SettingWithCopyWarning: \n",
      "A value is trying to be set on a copy of a slice from a DataFrame.\n",
      "Try using .loc[row_indexer,col_indexer] = value instead\n",
      "\n",
      "See the caveats in the documentation: https://pandas.pydata.org/pandas-docs/stable/user_guide/indexing.html#returning-a-view-versus-a-copy\n",
      "  edges['ETA_minutes'] = (edges['length'] / (edges['current_speed'] * edges['traffic_condition'])) * 60\n"
     ]
    }
   ],
   "source": [
    "# Updating the ETA for the first 5 segments dynamically\n",
    "edges_relevant.iloc[:5] = update_eta(edges_relevant.iloc[:5], new_speeds, new_traffic_conditions)\n",
    "\n",
    "# Save the updated synthetic data\n",
    "edges_relevant.to_csv('dynamic_synthetic.csv', index=False)"
   ]
  },
  {
   "cell_type": "markdown",
   "id": "345ce6f6-ae3c-4578-ae95-f22c7b6779b6",
   "metadata": {},
   "source": [
    "### Moving forward, this dynamic data can be used to perform model training and evaluation."
   ]
  },
  {
   "cell_type": "code",
   "execution_count": null,
   "id": "344ffe6d-84cb-401c-a500-3a30dee80055",
   "metadata": {},
   "outputs": [],
   "source": []
  }
 ],
 "metadata": {
  "kernelspec": {
   "display_name": "Python 3 (ipykernel)",
   "language": "python",
   "name": "python3"
  },
  "language_info": {
   "codemirror_mode": {
    "name": "ipython",
    "version": 3
   },
   "file_extension": ".py",
   "mimetype": "text/x-python",
   "name": "python",
   "nbconvert_exporter": "python",
   "pygments_lexer": "ipython3",
   "version": "3.11.7"
  }
 },
 "nbformat": 4,
 "nbformat_minor": 5
}
